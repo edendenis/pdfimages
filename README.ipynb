{
 "cells": [
  {
   "cell_type": "markdown",
   "metadata": {},
   "source": [
    "# Como configurar/instalar/usar o `pdfimages` no `Linux Ubuntu`\n",
    "\n",
    "## Resumo\n",
    "\n",
    "Neste documento estão contidos os principais comandos e configurações para configurar/instalar/usar o `pdfimages` no `Linux Ubuntu`.\n",
    "\n",
    "## _Abstract_\n",
    "\n",
    "_In this document are contained the main commands and settings to set up/install/use the `pdfimages` on `Linux Ubuntu`._"
   ]
  },
  {
   "cell_type": "markdown",
   "metadata": {},
   "source": [
    "## Descrição [2]\n",
    "\n",
    "### `pdfimages`\n",
    "\n",
    "O pdfimages é uma ferramenta de linha de comando que extrai imagens de arquivos `.pdf`. Ele permite converter páginas de um `.pdf` em imagens nos formatos PBM, PGM, PPM e JPEG, oferecendo opções para controlar a qualidade e o formato das imagens extraídas. Essa ferramenta é útil para extrair elementos gráficos de documentos `.pdf` para uso em outros contextos ou para análise de conteúdo visual.\n"
   ]
  },
  {
   "cell_type": "markdown",
   "metadata": {},
   "source": [
    "## 1. Como configurar/instalar/usar o `pdfimages` no `Linux Ubuntu` [1][3]\n",
    "\n",
    "Para configurar/instalar/usar o `pdfimages` no `Linux Ubuntu`, você pode seguir estes passos:\n",
    "\n",
    "1. Abra o `Terminal Emulator`. Você pode fazer isso pressionando: `Ctrl + Alt + T`    "
   ]
  },
  {
   "cell_type": "markdown",
   "metadata": {},
   "source": [
    "2. Certifique-se de que seu sistema esteja limpo e atualizado.\n",
    "\n",
    "    2.1 Limpar o `cache` do gerenciador de pacotes `apt`. Especificamente, ele remove todos os arquivos de pacotes (`.deb`) baixados pelo `apt` e armazenados em `/var/cache/apt/archives/`. Digite o seguinte comando: `sudo apt clean` \n",
    "    \n",
    "    2.2 Remover pacotes `.deb` antigos ou duplicados do cache local. É útil para liberar espaço, pois remove apenas os pacotes que não podem mais ser baixados (ou seja, versões antigas de pacotes que foram atualizados). Digite o seguinte comando: `sudo apt autoclean`\n",
    "\n",
    "    2.3 Remover pacotes que foram automaticamente instalados para satisfazer as dependências de outros pacotes e que não são mais necessários. Digite o seguinte comando: `sudo apt autoremove -y`\n",
    "\n",
    "    2.4 Buscar as atualizações disponíveis para os pacotes que estão instalados em seu sistema. Digite o seguinte comando e pressione `Enter`: `sudo apt update`\n",
    "\n",
    "    2.5 **Corrigir pacotes quebrados**: Isso atualizará a lista de pacotes disponíveis e tentará corrigir pacotes quebrados ou com dependências ausentes: `sudo apt --fix-broken install`\n",
    "\n",
    "    2.6 Limpar o `cache` do gerenciador de pacotes `apt`. Especificamente, ele remove todos os arquivos de pacotes (`.deb`) baixados pelo `apt` e armazenados em `/var/cache/apt/archives/`. Digite o seguinte comando: `sudo apt clean` \n",
    "    \n",
    "    2.7 Para ver a lista de pacotes a serem atualizados, digite o seguinte comando e pressione `Enter`:  `sudo apt list --upgradable`\n",
    "\n",
    "    2.8 Realmente atualizar os pacotes instalados para as suas versões mais recentes, com base na última vez que você executou `sudo apt update`. Digite o seguinte comando e pressione `Enter`: `sudo apt full-upgrade -y`\n",
    "    "
   ]
  },
  {
   "cell_type": "markdown",
   "metadata": {},
   "source": [
    "Para instalar o pdfimages no Linux Ubuntu, você precisa instalar o pacote poppler-utils, que inclui o pdfimages junto com outras ferramentas úteis para trabalhar com arquivos `.pdf`. Você pode fazer isso usando o gerenciador de pacotes apt do Ubuntu. Siga estes passos:\n",
    "\n",
    "3. **Instale o pacote `poppler-utils` executando:** `sudo apt install poppler-utils`\n",
    "\n",
    "Após a instalação, você poderá usar o comando pdfimages diretamente no terminal.\n",
    "\n",
    "4. **Verificar a Instalação:** Para verificar se o `pdfimages` foi instalado corretamente, você pode digitar no terminal: `pdfimages --version`\n",
    "\n",
    "    Isso deve exibir a versão do `pdfimages` instalada, indicando que a ferramenta está pronta para ser usada."
   ]
  },
  {
   "cell_type": "markdown",
   "metadata": {
    "vscode": {
     "languageId": "plaintext"
    }
   },
   "source": [
    "### 1.2 Código completo para configurar/instalar\n",
    "\n",
    "Para configurar/instalar/usar o `gImageReader` no `Linux Ubuntu` sem precisar digitar linha por linha, você pode seguir estas etapas:\n",
    "\n",
    "1. Abra o `Terminal Emulator`. Você pode fazer isso pressionando: `Ctrl + Alt + T`\n",
    "\n",
    "2. Digite o seguinte comando e pressione `Enter`:\n",
    "\n",
    "    ```\n",
    "    sudo apt clean                                                            \n",
    "    sudo apt autoclean\n",
    "    sudo apt autoremove -y\n",
    "    sudo apt update\n",
    "    sudo apt --fix-broken install\n",
    "    sudo apt clean\n",
    "    sudo apt list --upgradable\n",
    "    sudo apt full-upgrade -y\n",
    "    sudo apt install poppler-utils\n",
    "    ```\n",
    "    "
   ]
  },
  {
   "cell_type": "markdown",
   "metadata": {},
   "source": [
    "## 2. Usar o `pdfimages` a partir do `Terminal Emulator`\n",
    "\n",
    "### 2.1 Extrair imagens de um arquivo `.pdf`\n",
    "\n",
    "1. Depois de instalar o pdfimages, você pode extrair imagens de um arquivo `.pdf` com um comando como: `pdfimages -all seu_arquivo.pdf pasta_destino/`\n",
    "\n",
    "  Substitua `seu_arquivo.pdf` pelo nome do arquivo `.pdf` do qual você deseja extrair as imagens e pasta_destino pelo nome da pasta onde você deseja que as imagens sejam salvas. Se a pasta não existir, o `pdfimages` a criará."
   ]
  },
  {
   "cell_type": "markdown",
   "metadata": {},
   "source": [
    "### 2.2 Savar imagens na mesma pasta do arquivo `.pdf`\n",
    "\n",
    "Se você deseja salvar as imagens extraídas na mesma pasta do arquivo `.pdf` original usando o pdfimages, você não precisa especificar um caminho para a pasta de destino. Basta omitir o nome da pasta de destino no comando. Aqui está como você pode fazer isso:\n",
    "\n",
    "1. Navegue até a pasta onde o arquivo `.pdf` está localizado, usando o comando cd no terminal. Por exemplo: `cd /caminho/para/sua/pasta`\n",
    "\n",
    "    Substitua `/caminho/para/sua/pasta` pelo caminho real onde o seu arquivo `.pdf` está localizado.\n",
    "\n",
    "2. Execute o comando `pdfimages` sem especificar um diretório de destino, apenas o nome do arquivo `.pdf`: `pdfimages -all nome_do_arquivo.pdf prefixo_imagem`\n",
    "\n",
    "    Substitua `nome_do_arquivo.pdf` pelo nome do seu arquivo `.pdf` e `prefixo_imagem` pelo prefixo que você deseja usar para as imagens extraídas. O pdfimages salvará as imagens na mesma pasta do arquivo `.pdf`, com os nomes começando pelo prefixo especificado seguido de um número sequencial.\n",
    "\n",
    "Por exemplo, se o seu arquivo `.pdf` chama-se `documento.pdf` e você usa img como prefixo, os arquivos de imagem serão salvos como `img-000.jpg`, `img-001.jpg` etc., na mesma pasta onde `documento.pdf` está localizado."
   ]
  },
  {
   "cell_type": "markdown",
   "metadata": {
    "vscode": {
     "languageId": "plaintext"
    }
   },
   "source": [
    "## Referências\n",
    "\n",
    "[1] OPENAI. ***Instalar o `tesseract` no linux ubuntu.*** Disponível em: <https://chat.openai.com/c/dc4b629e-7432-44d6-bc0d-7caefcc8e11a> (texto adaptado). ChatGPT. Acessado em: 27/02/2024 12:00.\n",
    "\n",
    "[2] OPENAI. ***Vs code: editor popular.*** Disponível em: <https://chat.openai.com/c/b640a25d-f8e3-4922-8a3b-ed74a2657e42> (texto adaptado). ChatGPT. Acessado em: 27/02/2024 12:00.\n"
   ]
  }
 ],
 "metadata": {
  "kernelspec": {
   "display_name": "Python 3",
   "language": "python",
   "name": "python3"
  },
  "language_info": {
   "codemirror_mode": {
    "name": "ipython",
    "version": 3
   },
   "file_extension": ".py",
   "mimetype": "text/x-python",
   "name": "python",
   "nbconvert_exporter": "python",
   "pygments_lexer": "ipython3",
   "version": "3.11.5"
  },
  "orig_nbformat": 4
 },
 "nbformat": 4,
 "nbformat_minor": 2
}
